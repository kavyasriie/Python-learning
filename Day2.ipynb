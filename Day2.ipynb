{
  "nbformat": 4,
  "nbformat_minor": 0,
  "metadata": {
    "colab": {
      "provenance": [],
      "authorship_tag": "ABX9TyMAN6osXGImDJkocA6/zjxA",
      "include_colab_link": true
    },
    "kernelspec": {
      "name": "python3",
      "display_name": "Python 3"
    },
    "language_info": {
      "name": "python"
    }
  },
  "cells": [
    {
      "cell_type": "markdown",
      "metadata": {
        "id": "view-in-github",
        "colab_type": "text"
      },
      "source": [
        "<a href=\"https://colab.research.google.com/github/kavyasriie/python-learning/blob/main/Day2.ipynb\" target=\"_parent\"><img src=\"https://colab.research.google.com/assets/colab-badge.svg\" alt=\"Open In Colab\"/></a>"
      ]
    },
    {
      "cell_type": "markdown",
      "source": [
        "1.Difference between the list and tuple?\n"
      ],
      "metadata": {
        "id": "27peRm2kmm-y"
      }
    },
    {
      "cell_type": "markdown",
      "source": [
        "Lists and tuples are both data structures in Python, but there are key differences between them. Here are some of the main distinctions:\n",
        "\n",
        "lists:\n",
        "\n",
        "1) Lists are mutable, meaning you can change their elements (add, remove, or modify) after the list is created. You can use methods like append(), extend(), remove(), and pop() to modify a list. 2)Created using square brackets []. Example: my_list = [1, 2, 3]. 3)Since lists are mutable, they may require more memory and have a slightly slower performance compared to tuples. 4)Lists have more built-in methods for manipulation, given their mutability. Examples include append(), extend(), remove(), pop(), etc.\n",
        "\n",
        "tuples:\n",
        "\n",
        "1)Tuples are immutable, which means once they are created, their elements cannot be changed or modified. You cannot add, remove, or modify elements in a tuple. 2)Created using parentheses (). Example: my_tuple = (1, 2, 3). 3)Tuples, being immutable, are generally more memory-efficient and have faster access times than lists. 4)Tuples have fewer methods, mainly because they are immutable. Common operations include count() and index()."
      ],
      "metadata": {
        "id": "NMFASgrUmz_I"
      }
    },
    {
      "cell_type": "markdown",
      "source": [
        "2.How list is different from an array"
      ],
      "metadata": {
        "id": "hLXpwjrjm7O6"
      }
    },
    {
      "cell_type": "markdown",
      "source": [
        "The list is built in data type and mutable which can be changed whereas the array is the part of numpy library which have fixed size they can't be changed."
      ],
      "metadata": {
        "id": "MwpFxpENnExr"
      }
    },
    {
      "cell_type": "code",
      "source": [
        "# Using a list\n",
        "list_1 = [11, 7, 12, 9]\n",
        "print(list_1)\n",
        "# Using a NumPy array\n",
        "import numpy as np\n",
        "array_1 = np.array([19, 22, 43, 47])\n",
        "print(array_1)"
      ],
      "metadata": {
        "colab": {
          "base_uri": "https://localhost:8080/"
        },
        "id": "4nHSf5KbnPXI",
        "outputId": "95513eaf-505b-4759-a33b-b916eec45691"
      },
      "execution_count": null,
      "outputs": [
        {
          "output_type": "stream",
          "name": "stdout",
          "text": [
            "[11, 7, 12, 9]\n",
            "[19 22 43 47]\n"
          ]
        }
      ]
    },
    {
      "cell_type": "markdown",
      "source": [
        "3. Use the python list append(),copy(), clear, count, extends(), index(), insert(), pop(), reverse(), sort(), min(), max(),and sum()"
      ],
      "metadata": {
        "id": "HFgNebeZnu8C"
      }
    },
    {
      "cell_type": "code",
      "source": [
        "# Creating a list\n",
        "l= [1,2,\"dog\",77,3.21,100]\n",
        "# appending element to list\n",
        "l.append(10)\n",
        "print(\"After append:\",l)\n",
        "# copying list\n",
        "copiedlist = l.copy()\n",
        "print(\"Copied List:\", copiedlist)\n",
        "#Removing all elements using clear function\n",
        "l.clear()\n",
        "print(\"After clear:\",l)\n",
        "# count() funtion results the number of occurences of element in the list\n",
        "l1 = [1,1,3,7,2,8,4,4,9,5]\n",
        "ct = l1.count(4)\n",
        "print(\"Count of 4:\", ct)\n",
        "# extend() function appends the elements of another list to the end of the current list\n",
        "ext = [\"man\",8,3]\n",
        "l1.extend(ext)\n",
        "print(\"After extending:\",l1)\n",
        "# index() returns the index of specified value\n",
        "ind = l1.index(3)\n",
        "print(\"Index of 3:\", ind)\n",
        "# insert() function inserts element at a specified position\n",
        "l1.insert(44,4)\n",
        "print(\"After inserting:\",l1)\n",
        "# pop() removes and returns the element at the specified index\n",
        "n = l1.pop(1)\n",
        "print(\"Popped Element:\",n)\n",
        "print(\"After popping:\",l1)\n",
        "# reverse() function reverses the list\n",
        "l1.reverse()\n",
        "print(\"After reversing:\",l1)\n",
        "# sort() funtion sorts the elements of the list in ascending order\n",
        "l2=[22,62,82,1,9,0,3,53]\n",
        "l2.sort()\n",
        "print(\"After sorting:\",l2)\n",
        "# min() returns the minimum value in the list\n",
        "minimum = min(l2)\n",
        "print(\"Minimum Value:\", minimum)\n",
        "# max() returns the maximum value in the list\n",
        "maximum = max(l2)\n",
        "print(\"Maximum Value:\", maximum)\n",
        "# sum() returns the sum of all elements in the list\n",
        "addition = sum(l2)\n",
        "print(\"Sum of Elements:\", addition)"
      ],
      "metadata": {
        "id": "u6Fzu_oYn1AN",
        "colab": {
          "base_uri": "https://localhost:8080/"
        },
        "outputId": "0d72d1f3-6eb2-49be-f118-c5d15b9f783d"
      },
      "execution_count": 1,
      "outputs": [
        {
          "output_type": "stream",
          "name": "stdout",
          "text": [
            "After append: [1, 2, 'dog', 77, 3.21, 100, 10]\n",
            "Copied List: [1, 2, 'dog', 77, 3.21, 100, 10]\n",
            "After clear: []\n",
            "Count of 4: 2\n",
            "After extending: [1, 1, 3, 7, 2, 8, 4, 4, 9, 5, 'man', 8, 3]\n",
            "Index of 3: 2\n",
            "After inserting: [1, 1, 3, 7, 2, 8, 4, 4, 9, 5, 'man', 8, 3, 4]\n",
            "Popped Element: 1\n",
            "After popping: [1, 3, 7, 2, 8, 4, 4, 9, 5, 'man', 8, 3, 4]\n",
            "After reversing: [4, 3, 8, 'man', 5, 9, 4, 4, 8, 2, 7, 3, 1]\n",
            "After sorting: [0, 1, 3, 9, 22, 53, 62, 82]\n",
            "Minimum Value: 0\n",
            "Maximum Value: 82\n",
            "Sum of Elements: 232\n"
          ]
        }
      ]
    },
    {
      "cell_type": "markdown",
      "source": [
        "4.How would you divide the list into two parts?"
      ],
      "metadata": {
        "id": "MAgMhpn1tfSt"
      }
    },
    {
      "cell_type": "code",
      "source": [
        "list_1 = [1, 2, 3, 4, 5, 6, 7, 8, 9]\n",
        "\n",
        "# Dividing into two parts\n",
        "mid_point = len(list_1) // 2\n",
        "first_part = list_1[:mid_point]\n",
        "second_part = list_1[mid_point:]\n",
        "\n",
        "print(\"First part:\", first_part)\n",
        "print(\"Second part:\", second_part)"
      ],
      "metadata": {
        "colab": {
          "base_uri": "https://localhost:8080/"
        },
        "id": "0oAl41FytmA2",
        "outputId": "e81b0031-9499-4a81-94f7-6270a0a88591"
      },
      "execution_count": 2,
      "outputs": [
        {
          "output_type": "stream",
          "name": "stdout",
          "text": [
            "First part: [1, 2, 3, 4]\n",
            "Second part: [5, 6, 7, 8, 9]\n"
          ]
        }
      ]
    },
    {
      "cell_type": "markdown",
      "source": [
        "5. how to filter the multiple of 3 from a given list and them remove the odd number from the new filtered list.\n",
        "Eg A = [1,2,3,4,5,6,7,8,9,21,23,24] Filter_lsit = [3,6,9,21,24] output_list = [6,24]"
      ],
      "metadata": {
        "id": "G0Vzyjqatqkp"
      }
    },
    {
      "cell_type": "code",
      "source": [
        "L= [1, 2, 3, 4, 5, 6, 7, 8, 9, 21, 23, 24]\n",
        "\n",
        "\n",
        "#filtering the multiples of 3 from above list\n",
        "g = [n for n in L if n % 3 == 0]\n",
        "\n",
        "# Removing odd numbers from the filtered list\n",
        "res = [n for n in g if n % 2 == 0]\n",
        "print(\"List:\", L)\n",
        "print(\"multiples of 3:\",g)\n",
        "print(\"even multiples of 3:\",res)\n"
      ],
      "metadata": {
        "colab": {
          "base_uri": "https://localhost:8080/"
        },
        "id": "ho2UUu17tuyz",
        "outputId": "5172cea8-84bb-418e-9f21-1f3b611bf9f7"
      },
      "execution_count": 3,
      "outputs": [
        {
          "output_type": "stream",
          "name": "stdout",
          "text": [
            "List: [1, 2, 3, 4, 5, 6, 7, 8, 9, 21, 23, 24]\n",
            "multiples of 3: [3, 6, 9, 21, 24]\n",
            "even multiples of 3: [6, 24]\n"
          ]
        }
      ]
    },
    {
      "cell_type": "markdown",
      "source": [
        "6. How you can access keys and values simultaneously and update its value"
      ],
      "metadata": {
        "id": "_4g8pdLjt4em"
      }
    },
    {
      "cell_type": "code",
      "source": [
        "my_dict = {'a': 1, 'b': 2, 'c': 3, 'd': 4}\n",
        "\n",
        "# Accessing keys and values simultaneously\n",
        "for key, value in my_dict.items():\n",
        "    print(f\"Key: {key}, Value: {value}\")\n",
        "\n",
        "# Update the values\n",
        "for key in my_dict:\n",
        "    my_dict[key] = my_dict[key] * 2\n",
        "\n",
        "# Print the updated dictionary\n",
        "print(\"Updated Dictionary:\", my_dict)"
      ],
      "metadata": {
        "colab": {
          "base_uri": "https://localhost:8080/"
        },
        "id": "SeWalB09t7oE",
        "outputId": "efdb4ba7-a053-4a8c-b430-5ed16c9c4623"
      },
      "execution_count": 4,
      "outputs": [
        {
          "output_type": "stream",
          "name": "stdout",
          "text": [
            "Key: a, Value: 1\n",
            "Key: b, Value: 2\n",
            "Key: c, Value: 3\n",
            "Key: d, Value: 4\n",
            "Updated Dictionary: {'a': 2, 'b': 4, 'c': 6, 'd': 8}\n"
          ]
        }
      ]
    },
    {
      "cell_type": "markdown",
      "source": [
        "7. Write python program to join, merge, concatente the two dictionaries.."
      ],
      "metadata": {
        "id": "fTaVhadHu5M1"
      }
    },
    {
      "cell_type": "code",
      "source": [
        "dict1 = {'a': 17, 'b': 76}\n",
        "dict2= {'c': 36, 'd': 14}\n",
        "\n",
        "# Merging or join or concatenating dictionaries\n",
        "y = dict1.copy()\n",
        "y.update(dict2)\n",
        "\n",
        "print(\"Dictionary 1:\", dict1)\n",
        "print(\"Dictionary 2:\", dict2)\n",
        "print(\"Merged Dictionary:\", y)\n"
      ],
      "metadata": {
        "colab": {
          "base_uri": "https://localhost:8080/"
        },
        "id": "eTkbXhovu6xM",
        "outputId": "ad32b0a6-f6fc-492d-daa1-f4e669b91dd8"
      },
      "execution_count": 5,
      "outputs": [
        {
          "output_type": "stream",
          "name": "stdout",
          "text": [
            "Dictionary 1: {'a': 17, 'b': 76}\n",
            "Dictionary 2: {'c': 36, 'd': 14}\n",
            "Merged Dictionary: {'a': 17, 'b': 76, 'c': 36, 'd': 14}\n"
          ]
        }
      ]
    },
    {
      "cell_type": "markdown",
      "source": [
        "8. How would you check a specific keys from the dictionary??"
      ],
      "metadata": {
        "id": "QUTc759cvLfy"
      }
    },
    {
      "cell_type": "code",
      "source": [
        "#using key word \"in\"\n",
        "my_dict = {'a': 1, 'b': 2, 'c': 3}\n",
        "\n",
        "# Check if a specific key exists\n",
        "key_to_check = 'b'\n",
        "if key_to_check in my_dict:\n",
        "    print(f\"The key '{key_to_check}' exists in the dictionary with value: {my_dict[key_to_check]}\")\n",
        "else:\n",
        "    print(f\"The key '{key_to_check}' does not exist in the dictionary.\")"
      ],
      "metadata": {
        "colab": {
          "base_uri": "https://localhost:8080/"
        },
        "id": "ZZ-2aWSawYZc",
        "outputId": "66036039-4728-406f-d8cc-5a4c641f30f1"
      },
      "execution_count": 6,
      "outputs": [
        {
          "output_type": "stream",
          "name": "stdout",
          "text": [
            "The key 'b' exists in the dictionary with value: 2\n"
          ]
        }
      ]
    },
    {
      "cell_type": "markdown",
      "source": [
        "9. write a python program to find the unique vowel present in the sentence"
      ],
      "metadata": {
        "id": "3nJde7o6wxmK"
      }
    },
    {
      "cell_type": "code",
      "source": [],
      "metadata": {
        "id": "y9enm5OExYWh"
      },
      "execution_count": null,
      "outputs": []
    },
    {
      "cell_type": "code",
      "source": [
        "def find_unique_vowels(sentence):\n",
        "    vowels = \"aeiou\"\n",
        "    unique_vowels = set()\n",
        "    for char in sentence:\n",
        "        if char.lower() in vowels:\n",
        "            unique_vowels.add(char.lower())\n",
        "\n",
        "    return sorted(list(unique_vowels))\n",
        "# Example usage\n",
        "input_sentence = input(\"Enter a sentence: \")\n",
        "result = find_unique_vowels(input_sentence)\n",
        "\n",
        "if result:\n",
        "    print(\"Unique vowels in the sentence:\", \", \".join(result))\n",
        "else:\n",
        "    print(\"No vowels found in the sentence.\")"
      ],
      "metadata": {
        "colab": {
          "base_uri": "https://localhost:8080/"
        },
        "id": "T7fLVL7bxCod",
        "outputId": "bb786e4c-8aee-4883-ae7b-a27913db0c8a"
      },
      "execution_count": 7,
      "outputs": [
        {
          "output_type": "stream",
          "name": "stdout",
          "text": [
            "Enter a sentence: i am beautiful\n",
            "Unique vowels in the sentence: a, e, i, u\n"
          ]
        }
      ]
    },
    {
      "cell_type": "markdown",
      "source": [
        "10. We know that tuple is immutable, do any thing and add element to the tuples."
      ],
      "metadata": {
        "id": "yw5S6efqxdF3"
      }
    },
    {
      "cell_type": "code",
      "source": [
        "tu1 = (1, 2, 3)\n",
        "tu2= (4, 5, 6)\n",
        "new_tuple = tu1 + tu2\n",
        "print(new_tuple)\n",
        "#conveting to list and adds elements and converting to tuple\n",
        "t = (1,2,3,9,4)\n",
        "li= list(t)\n",
        "li.append(6)\n",
        "upd_tup=tuple(li)\n",
        "print(upd_tup)\n"
      ],
      "metadata": {
        "colab": {
          "base_uri": "https://localhost:8080/"
        },
        "id": "9N492XQdxiRJ",
        "outputId": "320434d6-1073-4d2f-9ec2-a96a1773ff6e"
      },
      "execution_count": 8,
      "outputs": [
        {
          "output_type": "stream",
          "name": "stdout",
          "text": [
            "(1, 2, 3, 4, 5, 6)\n",
            "(1, 2, 3, 9, 4, 6)\n"
          ]
        }
      ]
    },
    {
      "cell_type": "markdown",
      "source": [
        "11. How would you sum the list of tuple and sum of tuple of list"
      ],
      "metadata": {
        "id": "mxc8nS1Hxub3"
      }
    },
    {
      "cell_type": "code",
      "source": [
        "# List of tuples\n",
        "list_of_tuples = [(2, 3), (4, 5), (6, 4)]\n",
        "sum_of_tuples = [sum(t) for t in list_of_tuples]\n",
        "print(\"List of Tuples:\", list_of_tuples)\n",
        "print(\"Sum of Tuples:\", sum_of_tuples)\n",
        "\n",
        "# Tuple of lists\n",
        "tuple_of_lists = ([2, 3], [4, 5], [6, 4])\n",
        "sum_of_lists = tuple(sum(l) for l in tuple_of_lists)\n",
        "print(\"Tuple of Lists:\", tuple_of_lists)\n",
        "print(\"Sum of Lists:\", sum_of_lists)"
      ],
      "metadata": {
        "colab": {
          "base_uri": "https://localhost:8080/"
        },
        "id": "9W81uEc8x-gt",
        "outputId": "a5a16258-ca4c-4b5b-9dac-cf698685d054"
      },
      "execution_count": 9,
      "outputs": [
        {
          "output_type": "stream",
          "name": "stdout",
          "text": [
            "List of Tuples: [(2, 3), (4, 5), (6, 4)]\n",
            "Sum of Tuples: [5, 9, 10]\n",
            "Tuple of Lists: ([2, 3], [4, 5], [6, 4])\n",
            "Sum of Lists: (5, 9, 10)\n"
          ]
        }
      ]
    },
    {
      "cell_type": "markdown",
      "source": [
        "12. FIND THE FREQUENCY OF THE KEYS IN THE GIVEN DICTIONARY"
      ],
      "metadata": {
        "id": "joUnh6e4yCHn"
      }
    },
    {
      "cell_type": "code",
      "source": [
        "d = {'a': 26, 'b': 99, 'c': 71, 'd': 60, 'e': 37}\n",
        "freq = {}\n",
        "# Counting the frequency of each key in given dictionary\n",
        "for key in d:\n",
        "    if key in freq:\n",
        "        freq[key] += 1\n",
        "    else:\n",
        "        freq[key] = 1\n",
        "# Displaying the frequency of keys\n",
        "for key, frequency in freq.items():\n",
        "    print(\"Key\",key,\"occures in given dictionary \",frequency, \"times\")"
      ],
      "metadata": {
        "colab": {
          "base_uri": "https://localhost:8080/"
        },
        "id": "IghKdtbCyJJB",
        "outputId": "8bbb6940-7049-49cb-c42c-8a3aa3537798"
      },
      "execution_count": 10,
      "outputs": [
        {
          "output_type": "stream",
          "name": "stdout",
          "text": [
            "Key a occures in given dictionary  1 times\n",
            "Key b occures in given dictionary  1 times\n",
            "Key c occures in given dictionary  1 times\n",
            "Key d occures in given dictionary  1 times\n",
            "Key e occures in given dictionary  1 times\n"
          ]
        }
      ]
    }
  ]
}