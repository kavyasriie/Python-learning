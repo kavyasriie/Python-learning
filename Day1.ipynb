{
  "nbformat": 4,
  "nbformat_minor": 0,
  "metadata": {
    "colab": {
      "provenance": [],
      "authorship_tag": "ABX9TyMofGf+XsfSfmXgTHtw6Dx7",
      "include_colab_link": true
    },
    "kernelspec": {
      "name": "python3",
      "display_name": "Python 3"
    },
    "language_info": {
      "name": "python"
    }
  },
  "cells": [
    {
      "cell_type": "markdown",
      "metadata": {
        "id": "view-in-github",
        "colab_type": "text"
      },
      "source": [
        "<a href=\"https://colab.research.google.com/github/kavyasriie/kavyasriie/blob/main/Day1.ipynb\" target=\"_parent\"><img src=\"https://colab.research.google.com/assets/colab-badge.svg\" alt=\"Open In Colab\"/></a>"
      ]
    },
    {
      "cell_type": "markdown",
      "source": [
        "how would you confirm that two strings have the same identity?"
      ],
      "metadata": {
        "id": "YGh60-bPyH1w"
      }
    },
    {
      "cell_type": "code",
      "execution_count": 2,
      "metadata": {
        "colab": {
          "base_uri": "https://localhost:8080/"
        },
        "id": "lJrQGK2gwgY5",
        "outputId": "298c7e1f-e77c-4795-f059-d9b78ada5d7f"
      },
      "outputs": [
        {
          "output_type": "stream",
          "name": "stdout",
          "text": [
            "The above two strings(1&2) do not have the same identity.\n",
            "\n",
            "The above two strings(3&4) have the same identity.\n"
          ]
        }
      ],
      "source": [
        "#test case 1\n",
        "string1 = \"haii\"\n",
        "string2 = \"Hello\"\n",
        "\n",
        "if string1 is string2:\n",
        "  print(\"The above two strings(1&2) have the same identity.\\n\")\n",
        "else:\n",
        "  print(\"The above two strings(1&2) do not have the same identity.\\n\")\n",
        "\n",
        "#test case 2\n",
        "string3 = \"Welcome\"\n",
        "string4 = \"Welcome\"\n",
        "\n",
        "if string3 is string4:\n",
        "  print(\"The above two strings(3&4) have the same identity.\")\n",
        "else:\n",
        "  print(\"The above two strings(3&4) do not have the same identity.\")"
      ]
    },
    {
      "cell_type": "markdown",
      "source": [
        "How to find the length and index of the string?"
      ],
      "metadata": {
        "id": "fNLb13Drypk1"
      }
    },
    {
      "cell_type": "code",
      "source": [
        "string=\"how are you?\"\n",
        "print(\"the length of the string:\",len(string))\n",
        "y=string.index('are')\n",
        "print(\"\\nthe index of substring are:\",y)"
      ],
      "metadata": {
        "colab": {
          "base_uri": "https://localhost:8080/"
        },
        "id": "2dkuACWCyu5s",
        "outputId": "004b73d7-e31c-42b2-c829-4ea9142ef3d9"
      },
      "execution_count": 3,
      "outputs": [
        {
          "output_type": "stream",
          "name": "stdout",
          "text": [
            "the length of the string: 12\n",
            "\n",
            "the index of substring are: 4\n"
          ]
        }
      ]
    },
    {
      "cell_type": "markdown",
      "source": [
        "how to check a string contain a specific substring?"
      ],
      "metadata": {
        "id": "aCeezZP2y9Po"
      }
    },
    {
      "cell_type": "code",
      "source": [
        "string1=\"I belong to CMRCET\"\n",
        "str_sub=\"belong\"\n",
        "if str_sub in string1:\n",
        "  print(f'\"{string1}\" contains \"{str_sub}\"')\n",
        "else:\n",
        "  print(f'\"{string1}\" does not contain \"{str_sub}\"')"
      ],
      "metadata": {
        "colab": {
          "base_uri": "https://localhost:8080/"
        },
        "id": "QoU4EHoPzBe_",
        "outputId": "f8c84651-f72d-45ea-b3a5-bd47ca73d0ac"
      },
      "execution_count": 4,
      "outputs": [
        {
          "output_type": "stream",
          "name": "stdout",
          "text": [
            "\"I belong to CMRCET\" contains \"belong\"\n"
          ]
        }
      ]
    },
    {
      "cell_type": "markdown",
      "source": [
        "how to a take a string from backward with two step difference?"
      ],
      "metadata": {
        "id": "UDijkKRIzO1C"
      }
    },
    {
      "cell_type": "code",
      "source": [
        "str1 = \"hello everyone\"\n",
        "final_str = str1[::-2]\n",
        "print(\"The entered string is:\", str1)\n",
        "print(\"\\nfinal string with backward two_step difference is:\", final_str)"
      ],
      "metadata": {
        "colab": {
          "base_uri": "https://localhost:8080/"
        },
        "id": "aQ-3bU2nzTic",
        "outputId": "0eb7eb0b-c236-4973-b521-0484d583f659"
      },
      "execution_count": 5,
      "outputs": [
        {
          "output_type": "stream",
          "name": "stdout",
          "text": [
            "The entered string is: hello everyone\n",
            "\n",
            "final string with backward two_step difference is: eorv le\n"
          ]
        }
      ]
    },
    {
      "cell_type": "markdown",
      "source": [
        "how to find the index of the last element?"
      ],
      "metadata": {
        "id": "v-lUrTtQzm2Z"
      }
    },
    {
      "cell_type": "code",
      "source": [
        "str1= \"The team TECH ARMY\"\n",
        "lst_index = len(str1) - 1\n",
        "print(\"Index of the last element:\",lst_index)"
      ],
      "metadata": {
        "colab": {
          "base_uri": "https://localhost:8080/"
        },
        "id": "8bdyLJxqzswP",
        "outputId": "77ee5946-ce84-477b-bd6e-7f20f94de9d2"
      },
      "execution_count": 6,
      "outputs": [
        {
          "output_type": "stream",
          "name": "stdout",
          "text": [
            "Index of the last element: 17\n"
          ]
        }
      ]
    },
    {
      "cell_type": "markdown",
      "source": [
        "Write 2 ways to concatinate the string?\n"
      ],
      "metadata": {
        "id": "KLePZ-lRz11T"
      }
    },
    {
      "cell_type": "code",
      "source": [
        "# by using + operator\n",
        "str1= \"hello \"\n",
        "str2= \"everyone\"\n",
        "\n",
        "print(\"concatenation of two strings using + operator=\",str1 + str2)\n",
        "\n",
        "\n",
        "# by using join()\n",
        "str3= \"welcome to \"\n",
        "str4= \"warangal\"\n",
        "\n",
        "print('\\nConcatenation of two Strings using join() =', \"\".join([str3, str4]))\n"
      ],
      "metadata": {
        "colab": {
          "base_uri": "https://localhost:8080/"
        },
        "id": "mPHyplZ9z7dH",
        "outputId": "2b0b9cc8-8d6d-48a1-9e07-a1d7678791a3"
      },
      "execution_count": 8,
      "outputs": [
        {
          "output_type": "stream",
          "name": "stdout",
          "text": [
            "concatenation of two strings using + operator= hello everyone\n",
            "\n",
            "Concatenation of two Strings using join() = welcome to warangal\n"
          ]
        }
      ]
    }
  ]
}